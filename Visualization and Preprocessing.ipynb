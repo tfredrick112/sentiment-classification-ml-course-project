{
 "cells": [
  {
   "cell_type": "markdown",
   "metadata": {},
   "source": [
    "### Importing necessary libraries"
   ]
  },
  {
   "cell_type": "code",
   "execution_count": 159,
   "metadata": {},
   "outputs": [],
   "source": [
    "import pandas as pd\n",
    "import numpy as np\n",
    "import matplotlib.pyplot as plt\n",
    "\n",
    "df = pd.read_csv('train.csv')"
   ]
  },
  {
   "cell_type": "code",
   "execution_count": 160,
   "metadata": {},
   "outputs": [],
   "source": [
    "import unicodedata\n",
    "import nltk\n",
    "import string\n",
    "from tqdm import tqdm\n",
    "from time import time"
   ]
  },
  {
   "cell_type": "markdown",
   "metadata": {},
   "source": [
    "### Basic visualization"
   ]
  },
  {
   "cell_type": "code",
   "execution_count": 161,
   "metadata": {},
   "outputs": [
    {
     "data": {
      "text/html": [
       "<div>\n",
       "<style scoped>\n",
       "    .dataframe tbody tr th:only-of-type {\n",
       "        vertical-align: middle;\n",
       "    }\n",
       "\n",
       "    .dataframe tbody tr th {\n",
       "        vertical-align: top;\n",
       "    }\n",
       "\n",
       "    .dataframe thead th {\n",
       "        text-align: right;\n",
       "    }\n",
       "</style>\n",
       "<table border=\"1\" class=\"dataframe\">\n",
       "  <thead>\n",
       "    <tr style=\"text-align: right;\">\n",
       "      <th></th>\n",
       "      <th>id</th>\n",
       "      <th>comment_text</th>\n",
       "      <th>toxic</th>\n",
       "      <th>severe_toxic</th>\n",
       "      <th>obscene</th>\n",
       "      <th>threat</th>\n",
       "      <th>insult</th>\n",
       "      <th>identity_hate</th>\n",
       "    </tr>\n",
       "  </thead>\n",
       "  <tbody>\n",
       "    <tr>\n",
       "      <th>0</th>\n",
       "      <td>0000997932d777bf</td>\n",
       "      <td>Explanation\\nWhy the edits made under my usern...</td>\n",
       "      <td>0</td>\n",
       "      <td>0</td>\n",
       "      <td>0</td>\n",
       "      <td>0</td>\n",
       "      <td>0</td>\n",
       "      <td>0</td>\n",
       "    </tr>\n",
       "    <tr>\n",
       "      <th>1</th>\n",
       "      <td>000103f0d9cfb60f</td>\n",
       "      <td>D'aww! He matches this background colour I'm s...</td>\n",
       "      <td>0</td>\n",
       "      <td>0</td>\n",
       "      <td>0</td>\n",
       "      <td>0</td>\n",
       "      <td>0</td>\n",
       "      <td>0</td>\n",
       "    </tr>\n",
       "    <tr>\n",
       "      <th>2</th>\n",
       "      <td>000113f07ec002fd</td>\n",
       "      <td>Hey man, I'm really not trying to edit war. It...</td>\n",
       "      <td>0</td>\n",
       "      <td>0</td>\n",
       "      <td>0</td>\n",
       "      <td>0</td>\n",
       "      <td>0</td>\n",
       "      <td>0</td>\n",
       "    </tr>\n",
       "    <tr>\n",
       "      <th>3</th>\n",
       "      <td>0001b41b1c6bb37e</td>\n",
       "      <td>\"\\nMore\\nI can't make any real suggestions on ...</td>\n",
       "      <td>0</td>\n",
       "      <td>0</td>\n",
       "      <td>0</td>\n",
       "      <td>0</td>\n",
       "      <td>0</td>\n",
       "      <td>0</td>\n",
       "    </tr>\n",
       "    <tr>\n",
       "      <th>4</th>\n",
       "      <td>0001d958c54c6e35</td>\n",
       "      <td>You, sir, are my hero. Any chance you remember...</td>\n",
       "      <td>0</td>\n",
       "      <td>0</td>\n",
       "      <td>0</td>\n",
       "      <td>0</td>\n",
       "      <td>0</td>\n",
       "      <td>0</td>\n",
       "    </tr>\n",
       "  </tbody>\n",
       "</table>\n",
       "</div>"
      ],
      "text/plain": [
       "                 id                                       comment_text  toxic  \\\n",
       "0  0000997932d777bf  Explanation\\nWhy the edits made under my usern...      0   \n",
       "1  000103f0d9cfb60f  D'aww! He matches this background colour I'm s...      0   \n",
       "2  000113f07ec002fd  Hey man, I'm really not trying to edit war. It...      0   \n",
       "3  0001b41b1c6bb37e  \"\\nMore\\nI can't make any real suggestions on ...      0   \n",
       "4  0001d958c54c6e35  You, sir, are my hero. Any chance you remember...      0   \n",
       "\n",
       "   severe_toxic  obscene  threat  insult  identity_hate  \n",
       "0             0        0       0       0              0  \n",
       "1             0        0       0       0              0  \n",
       "2             0        0       0       0              0  \n",
       "3             0        0       0       0              0  \n",
       "4             0        0       0       0              0  "
      ]
     },
     "execution_count": 161,
     "metadata": {},
     "output_type": "execute_result"
    }
   ],
   "source": [
    "df.head()"
   ]
  },
  {
   "cell_type": "code",
   "execution_count": 162,
   "metadata": {},
   "outputs": [
    {
     "name": "stdout",
     "output_type": "stream",
     "text": [
      "Number of rows in the dataset: 159571\n"
     ]
    }
   ],
   "source": [
    "total_comments = df.shape[0]\n",
    "print(\"Number of rows in the dataset:\", total_comments)"
   ]
  },
  {
   "cell_type": "markdown",
   "metadata": {},
   "source": [
    "A comment is deemed to be safe or non-toxic if it has a '0' entry under every toxicity level class."
   ]
  },
  {
   "cell_type": "markdown",
   "metadata": {},
   "source": [
    "### Number of safe and toxic comments"
   ]
  },
  {
   "cell_type": "code",
   "execution_count": 163,
   "metadata": {},
   "outputs": [
    {
     "name": "stdout",
     "output_type": "stream",
     "text": [
      "Number of comments that have 0 labels: 143346\n",
      "Number of comments that have 1 labels: 6360\n",
      "Number of comments that have 2 labels: 3480\n",
      "Number of comments that have 3 labels: 4209\n",
      "Number of comments that have 4 labels: 1760\n",
      "Number of comments that have 5 labels: 385\n",
      "Number of comments that have 6 labels: 31\n"
     ]
    }
   ],
   "source": [
    "# To find the number of safe (non-toxic) comments:\n",
    "df_numeric = df[['toxic', 'severe_toxic', 'obscene', 'threat', 'insult', 'identity_hate']]\n",
    "df_arr = np.array(df_numeric)\n",
    "\n",
    "num_com = [None]*7\n",
    "# Number of comments having a certain number of labels\n",
    "for i in range(7):\n",
    "    num_com[i] = list(df_arr.sum(axis=1)).count(i)\n",
    "    print(\"Number of comments that have {} labels: {}\".format(i, num_com[i]))"
   ]
  },
  {
   "cell_type": "code",
   "execution_count": 164,
   "metadata": {},
   "outputs": [
    {
     "data": {
      "image/png": "[encoded data removed]",
      "text/plain": [
       "<Figure size 432x288 with 1 Axes>"
      ]
     },
     "metadata": {
      "needs_background": "light"
     },
     "output_type": "display_data"
    },
    {
     "name": "stdout",
     "output_type": "stream",
     "text": [
      "Percentage of safe comments = 89.83 %\n"
     ]
    }
   ],
   "source": [
    "plt.bar(range(7), height=num_com, color=['lime', 'red', 'red', 'red','red', 'red', 'red'])\n",
    "plt.title(\"Number of comments vs number of labels\", size=18)\n",
    "plt.xlabel(\"Number of labels\", size=14)\n",
    "plt.ylabel(\"Number of comments\", size=14)\n",
    "plt.grid()\n",
    "plt.show()\n",
    "\n",
    "print(\"Percentage of safe comments =\", round((num_com[0]/total_comments)*100, 2), \"%\")"
   ]
  },
  {
   "cell_type": "markdown",
   "metadata": {},
   "source": [
    "The green bar shows the number of safe comments. The red bars show the number of toxic comments. We see that the dataset is highly skewed, most of the comments in the dataset are safe."
   ]
  },
  {
   "cell_type": "markdown",
   "metadata": {},
   "source": [
    "### Analyzing the length of the comments"
   ]
  },
  {
   "cell_type": "code",
   "execution_count": 165,
   "metadata": {},
   "outputs": [],
   "source": [
    "comments = df['comment_text']\n",
    "labels = np.array(df[['toxic', 'severe_toxic' , 'obscene' , 'threat' , 'insult' , 'identity_hate']])\n",
    "x = [len(comments[i]) for i in range(comments.shape[0])]"
   ]
  },
  {
   "cell_type": "code",
   "execution_count": 166,
   "metadata": {},
   "outputs": [
    {
     "name": "stdout",
     "output_type": "stream",
     "text": [
      "Length of the longest comment = 5000\n",
      "Length of the shortest comment = 6\n",
      "Average length of a comment: 394.073\n"
     ]
    }
   ],
   "source": [
    "max_len = max(x)\n",
    "min_len = min(x)\n",
    "print(\"Length of the longest comment =\", max_len)\n",
    "print(\"Length of the shortest comment =\", min_len)\n",
    "print('Average length of a comment: {:.3f}'.format(sum(x)/len(x)) )"
   ]
  },
  {
   "cell_type": "code",
   "execution_count": 167,
   "metadata": {},
   "outputs": [
    {
     "data": {
      "image/png": "[encoded data removed]",
      "text/plain": [
       "<Figure size 432x288 with 1 Axes>"
      ]
     },
     "metadata": {
      "needs_background": "light"
     },
     "output_type": "display_data"
    }
   ],
   "source": [
    "bins = [1,200,400,600,800,1000,1200]\n",
    "bins = list(range(min_len, max_len + 200, 200))\n",
    "plt.hist(x, bins=bins, color='blue')\n",
    "plt.xlabel('Length of comments', size=14)\n",
    "plt.ylabel('Number of comments',size=14)      \n",
    "plt.title('Number of comments of specified length range', size=18)\n",
    "plt.axis([0, max_len + 200, 0, 90000])\n",
    "\n",
    "plt.grid(True)\n",
    "plt.show()"
   ]
  },
  {
   "cell_type": "code",
   "execution_count": 168,
   "metadata": {},
   "outputs": [
    {
     "data": {
      "image/png": "[encoded data removed]",
      "text/plain": [
       "<Figure size 432x288 with 1 Axes>"
      ]
     },
     "metadata": {
      "needs_background": "light"
     },
     "output_type": "display_data"
    }
   ],
   "source": [
    "bins = [1,200,400,600,800,1000,1200]\n",
    "plt.hist(x, bins=bins, color='blue')\n",
    "plt.xlabel('Length of comments', size=14)\n",
    "plt.ylabel('Number of comments',size=14)      \n",
    "plt.title('Number of comments of specified length range', size=18)\n",
    "plt.axis([0, 1200, 0, 90000])\n",
    "\n",
    "plt.grid(True)\n",
    "plt.show()"
   ]
  },
  {
   "cell_type": "markdown",
   "metadata": {},
   "source": [
    "#### Category-wise length analysis(only unsafe)"
   ]
  },
  {
   "cell_type": "code",
   "execution_count": 169,
   "metadata": {},
   "outputs": [
    {
     "data": {
      "image/png": "[encoded data removed]",
      "text/plain": [
       "<Figure size 432x288 with 1 Axes>"
      ]
     },
     "metadata": {
      "needs_background": "light"
     },
     "output_type": "display_data"
    }
   ],
   "source": [
    "y = np.zeros(labels.shape)\n",
    "for ix in range(comments.shape[0]):\n",
    "    l = len(comments[ix])\n",
    "    if labels[ix][0] :\n",
    "        y[ix][0] = l\n",
    "    if labels[ix][1] :\n",
    "        y[ix][1] = l\n",
    "    if labels[ix][2] :\n",
    "        y[ix][2] = l\n",
    "    if labels[ix][3] :\n",
    "        y[ix][3] = l\n",
    "    if labels[ix][4] :\n",
    "        y[ix][4] = l\n",
    "    if labels[ix][5] :\n",
    "        y[ix][5] = l\n",
    "\n",
    "labelsplt = ['toxic','severe_toxic','obscene','threat','insult','identity_hate']\n",
    "color = ['red','black','blue','yellow','orange','magenta']        \n",
    "plt.hist(y,bins = bins,label = labelsplt,color = color)\n",
    "plt.axis([0, 1200, 0, 12000])\n",
    "plt.xlabel('Length of comments', size=14)\n",
    "plt.ylabel('Number of comments', size=14)\n",
    "plt.title('Category-wise length analysis(only unsafe)', size=18)\n",
    "plt.legend()\n",
    "plt.grid(True)\n",
    "plt.show()"
   ]
  },
  {
   "cell_type": "markdown",
   "metadata": {},
   "source": [
    "#### Category-wise length analysis(including safe)"
   ]
  },
  {
   "cell_type": "code",
   "execution_count": 170,
   "metadata": {},
   "outputs": [
    {
     "data": {
      "image/png": "[encoded data removed]",
      "text/plain": [
       "<Figure size 432x288 with 1 Axes>"
      ]
     },
     "metadata": {
      "needs_background": "light"
     },
     "output_type": "display_data"
    }
   ],
   "source": [
    "y = np.zeros((labels.shape[0], labels.shape[1]+1))\n",
    "for ix in range(comments.shape[0]):\n",
    "    l = len(comments[ix])\n",
    "    if labels[ix][0] :\n",
    "        y[ix][0] = l\n",
    "    if labels[ix][1] :\n",
    "        y[ix][1] = l\n",
    "    if labels[ix][2] :\n",
    "        y[ix][2] = l\n",
    "    if labels[ix][3] :\n",
    "        y[ix][3] = l\n",
    "    if labels[ix][4] :\n",
    "        y[ix][4] = l\n",
    "    if labels[ix][5] :\n",
    "        y[ix][5] = l\n",
    "    if sum(labels[ix])==0:\n",
    "        y[ix][6] = l\n",
    "\n",
    "labelsplt = ['toxic','severe_toxic','obscene','threat','insult','identity_hate', 'safe']\n",
    "color = ['red','black','blue','yellow','orange','magenta', 'lime']        \n",
    "plt.hist(y,bins = bins,label = labelsplt,color = color)\n",
    "plt.axis([0, 1200, 0, 70000])\n",
    "plt.xlabel('Length of comments', size=14)\n",
    "plt.ylabel('Number of comments', size=14)\n",
    "plt.title('Category-wise length analysis(including safe)', size=18)\n",
    "plt.legend()\n",
    "plt.grid(True)\n",
    "plt.show()"
   ]
  },
  {
   "cell_type": "code",
   "execution_count": 171,
   "metadata": {},
   "outputs": [],
   "source": [
    "count = 0\n",
    "cut_off = 400\n",
    "label_count = np.zeros(7)\n",
    "total_label_count = np.zeros(7)\n",
    "\n",
    "for i in range(len(x)):\n",
    "    comment_length = len(comments[i])\n",
    "    flag = False\n",
    "    if comment_length <= cut_off:\n",
    "        count += 1\n",
    "        for j in range(6):\n",
    "            if labels[i, j] == 1:\n",
    "                label_count[j] += 1\n",
    "                flag = True\n",
    "        if not flag:\n",
    "            label_count[6] += 1\n",
    "                \n",
    "for i in range(len(x)):\n",
    "    flag = False\n",
    "    for j in range(6):\n",
    "        if labels[i, j] == 1:\n",
    "            total_label_count[j] += 1\n",
    "            flag = True\n",
    "    if not flag:\n",
    "        total_label_count[6] += 1"
   ]
  },
  {
   "cell_type": "code",
   "execution_count": 172,
   "metadata": {},
   "outputs": [
    {
     "name": "stdout",
     "output_type": "stream",
     "text": [
      "Number     of comments whose length is at most 400 = 115910\n",
      "Percentage of comments whose length is at most 400 = 72.63851201032769\n",
      "\n",
      "Percentage of comments from each class whose length is at most 400:\n",
      "toxic : 84.17026284817575\n",
      "severe_toxic : 85.07836990595611\n",
      "obscene : 85.57225707184283\n",
      "threat : 86.40167364016736\n",
      "insult : 86.09876856671322\n",
      "identity_hate : 84.05693950177935\n",
      "safe : 71.44322129672261\n"
     ]
    }
   ],
   "source": [
    "print(\"Number     of comments whose length is at most {} = {}\".format(cut_off, count))\n",
    "print(\"Percentage of comments whose length is at most {} = {}\".format(cut_off, count*100/len(x)))\n",
    "print()\n",
    "\n",
    "print(\"Percentage of comments from each class whose length is at most {}:\".format(cut_off))\n",
    "for j in range(7):\n",
    "    print(labelsplt[j], label_count[j]*100/total_label_count[j], sep=' : ')"
   ]
  },
  {
   "cell_type": "markdown",
   "metadata": {},
   "source": [
    "#### Observations\n",
    "\n",
    "* In every bin, we can see that the number of safe comments is the highest by a very large margin\n",
    "* The average length of the comments is 394.073 characters.\n",
    "* Using only comments whose length is atmost 400 characters includes 72.64% of the original data(115910 comments) and also helps us to avoid some very long comments, which will add a large number of words into our training data matrix, making the training of models on the data slow, and the accuracy of the prediction low.\n",
    "* We can also see that the percentage of comments from each class is greater than 80%.\n"
   ]
  },
  {
   "cell_type": "code",
   "execution_count": 173,
   "metadata": {},
   "outputs": [
    {
     "data": {
      "text/plain": [
       "(115910, 9)"
      ]
     },
     "execution_count": 173,
     "metadata": {},
     "output_type": "execute_result"
    }
   ],
   "source": [
    "df['length'] = x\n",
    "df_new = df.loc[df['length'] <= cut_off]\n",
    "df_new.shape"
   ]
  },
  {
   "cell_type": "markdown",
   "metadata": {},
   "source": [
    "### Preprocessing Steps"
   ]
  },
  {
   "cell_type": "markdown",
   "metadata": {},
   "source": [
    "#### Converting to Lowercase and Removing Punctuation"
   ]
  },
  {
   "cell_type": "code",
   "execution_count": 174,
   "metadata": {},
   "outputs": [],
   "source": [
    "from nltk.tokenize import word_tokenize\n",
    "\n",
    "def my_word_tokenize(doc):\n",
    "    new_doc = \"\"\n",
    "    characters_to_remove = string.punctuation.replace(\"'\", \"\") + \"\\n\"\n",
    "    new_doc = ''.join([ch if ch not in characters_to_remove else \" \" for ch in doc])\n",
    "    return new_doc.split()\n",
    "\n",
    "def basic_preprocess(doc):\n",
    "    '''\n",
    "    Input: doc (A comment, which is string)\n",
    "    Output: List of words in the preprocessed document\n",
    "    Basic preprocessing includes:\n",
    "    a) converting to lowercase\n",
    "    b) removing newline characters\n",
    "    c) removing all punctuation\n",
    "    d) normalizing to NFKC form\n",
    "    '''\n",
    "    \n",
    "    # Normalization and conversiom to lowercase\n",
    "    doc = unicodedata.normalize('NFKC', doc).lower()\n",
    "\n",
    "    # A list of all the words in the document after removing punctuation.\n",
    "    tokens = my_word_tokenize(doc)\n",
    "    return tokens\n",
    "\n",
    "def basic_preprocess_1(doc):\n",
    "    '''\n",
    "    Input: doc (A comment, which is string)\n",
    "    Output: List of words in the preprocessed document\n",
    "    Basic preprocessing includes:\n",
    "    a) converting to lowercase\n",
    "    b) removing newline characters\n",
    "    c) removing all punctuation\n",
    "    d) normalizing to NFKC form\n",
    "    '''\n",
    "    \n",
    "    # Normalization and conversiom to lowercase\n",
    "    doc = unicodedata.normalize('NFKC', doc).lower()\n",
    "    doc = doc.replace('_', ' ')\n",
    "    \n",
    "    # A list of all the words in the document after removing punctuation.\n",
    "    tokens = word_tokenize(doc)\n",
    "    # Maps all punctuation marks to 'None'\n",
    "    table = str.maketrans('', '', string.punctuation)\n",
    "    # Removes the punctuation marks from each word, if present.\n",
    "    stripped = [w.translate(table) for w in tokens]\n",
    "    stripped = [w for w in stripped if w!='']\n",
    "    return stripped"
   ]
  },
  {
   "cell_type": "markdown",
   "metadata": {},
   "source": [
    "#### Lemmatization"
   ]
  },
  {
   "cell_type": "code",
   "execution_count": 175,
   "metadata": {},
   "outputs": [],
   "source": [
    "from nltk.stem import WordNetLemmatizer\n",
    "from nltk.corpus import  wordnet\n",
    "\n",
    "def get_wordnet_pos(treebank_tag):\n",
    "    '''\n",
    "    This function is used to convert the Part of Speech tags returned by nltk.pos_tag\n",
    "    function to the wordnet POS tags.\n",
    "    '''\n",
    "    if treebank_tag.startswith('J'):\n",
    "        return wordnet.ADJ\n",
    "    elif treebank_tag.startswith('V'):\n",
    "        return wordnet.VERB\n",
    "    elif treebank_tag.startswith('N'):\n",
    "        return wordnet.NOUN\n",
    "    elif treebank_tag.startswith('R'):\n",
    "        return wordnet.ADV\n",
    "    else:\n",
    "        return wordnet.NOUN\n",
    "        # Instead of returning None, I am returning the noun tag, because, by default\n",
    "        # the WordNetLemmatizer assumes that the POS tag is noun.\n",
    "        \n",
    "def lemmatize(doc_words):\n",
    "    '''\n",
    "    Input: doc(A comment)\n",
    "    Output: A list of words in the document,after lemmatization\n",
    "    '''\n",
    "    # Creating Part-of-Speech tags for the words\n",
    "    pos_tags = nltk.pos_tag(doc_words)\n",
    "    # Lemmatization\n",
    "    lemmatizer = WordNetLemmatizer()\n",
    "    lem_words = [lemmatizer.lemmatize(word, pos = get_wordnet_pos(tag)) for word, tag in pos_tags]\n",
    "    return lem_words"
   ]
  },
  {
   "cell_type": "markdown",
   "metadata": {},
   "source": [
    "#### Removing Stopwords"
   ]
  },
  {
   "cell_type": "code",
   "execution_count": 176,
   "metadata": {},
   "outputs": [],
   "source": [
    "# Removal of stopwords\n",
    "from nltk.corpus import stopwords\n",
    "def remove_stopwords(doc_words):\n",
    "    '''\n",
    "    Input: doc(a comment)\n",
    "    Output: List of words in that document, after removing stop words.\n",
    "    '''\n",
    "    words_to_remove = set(stopwords.words('english'))\n",
    "    words = [word for word in doc_words if word not in words_to_remove]\n",
    "    return words"
   ]
  },
  {
   "cell_type": "markdown",
   "metadata": {},
   "source": [
    "#### Preprocessing"
   ]
  },
  {
   "cell_type": "code",
   "execution_count": 177,
   "metadata": {},
   "outputs": [],
   "source": [
    "def preprocess(doc):\n",
    "    '''\n",
    "    Input: doc (A comment)\n",
    "    Output: List of words (after preprocessing)\n",
    "    '''\n",
    "    preprocessed_doc = basic_preprocess(doc)\n",
    "    lemmatized_doc = lemmatize(preprocessed_doc)\n",
    "    final_preprocessed_doc = remove_stopwords(lemmatized_doc)\n",
    "    return final_preprocessed_doc\n",
    "\n",
    "def preprocess_1(doc):\n",
    "    '''\n",
    "    Input: doc (A comment)\n",
    "    Output: List of words (after preprocessing)\n",
    "    '''\n",
    "    preprocessed_doc = basic_preprocess_1(doc)\n",
    "    lemmatized_doc = lemmatize(preprocessed_doc)\n",
    "    final_preprocessed_doc = remove_stopwords(lemmatized_doc)\n",
    "    return final_preprocessed_doc"
   ]
  },
  {
   "cell_type": "markdown",
   "metadata": {},
   "source": [
    "### Preprocessing the Comments\n",
    "\n",
    "I want to preprocess both the original dataframe and the trimmed dataframe."
   ]
  },
  {
   "cell_type": "code",
   "execution_count": 186,
   "metadata": {},
   "outputs": [
    {
     "name": "stdout",
     "output_type": "stream",
     "text": [
      "Time taken (in seconds) for preprocessing:\n",
      "222.64897871017456\n"
     ]
    }
   ],
   "source": [
    "start = time()\n",
    "a = df_new.copy()\n",
    "a['processed_comments']= a.apply(lambda row : preprocess_1(row['comment_text']), axis = 1)\n",
    "end = time()\n",
    "print(\"Time taken (in seconds) for preprocessing:\")\n",
    "print(end - start)"
   ]
  },
  {
   "cell_type": "code",
   "execution_count": null,
   "metadata": {},
   "outputs": [],
   "source": [
    "start = time()\n",
    "b = df.copy()\n",
    "b['processed_comments']= b.apply(lambda row : preprocess_1(row['comment_text']), axis = 1)\n",
    "end = time()\n",
    "print(\"Time taken (in seconds) for preprocessing:\")\n",
    "print(end - start)"
   ]
  },
  {
   "cell_type": "code",
   "execution_count": 187,
   "metadata": {},
   "outputs": [],
   "source": [
    "a.to_csv('processed_trainset_trimmed.csv')\n",
    "b.to_csv('processed_trainset.csv')"
   ]
  },
  {
   "cell_type": "markdown",
   "metadata": {},
   "source": [
    "The comment gets converted into a list of words after preprocessing, when we store the new dataframe as a csv file, the list is stored as string. In order to use it properly as a list, the following method will be helpful:\n",
    "\n",
    "```\n",
    "from ast import literal_eval\n",
    "string_list = \"[12, 45]\"\n",
    "new_list = literal_eval(string_list)\n",
    "```\n",
    "**new_list** can now be used as a normal list."
   ]
  },
  {
   "cell_type": "code",
   "execution_count": 189,
   "metadata": {},
   "outputs": [
    {
     "data": {
      "text/html": [
       "<div>\n",
       "<style scoped>\n",
       "    .dataframe tbody tr th:only-of-type {\n",
       "        vertical-align: middle;\n",
       "    }\n",
       "\n",
       "    .dataframe tbody tr th {\n",
       "        vertical-align: top;\n",
       "    }\n",
       "\n",
       "    .dataframe thead th {\n",
       "        text-align: right;\n",
       "    }\n",
       "</style>\n",
       "<table border=\"1\" class=\"dataframe\">\n",
       "  <thead>\n",
       "    <tr style=\"text-align: right;\">\n",
       "      <th></th>\n",
       "      <th>id</th>\n",
       "      <th>comment_text</th>\n",
       "      <th>toxic</th>\n",
       "      <th>severe_toxic</th>\n",
       "      <th>obscene</th>\n",
       "      <th>threat</th>\n",
       "      <th>insult</th>\n",
       "      <th>identity_hate</th>\n",
       "      <th>length</th>\n",
       "      <th>processed_comments</th>\n",
       "    </tr>\n",
       "  </thead>\n",
       "  <tbody>\n",
       "    <tr>\n",
       "      <th>0</th>\n",
       "      <td>0000997932d777bf</td>\n",
       "      <td>Explanation\\nWhy the edits made under my usern...</td>\n",
       "      <td>0</td>\n",
       "      <td>0</td>\n",
       "      <td>0</td>\n",
       "      <td>0</td>\n",
       "      <td>0</td>\n",
       "      <td>0</td>\n",
       "      <td>264</td>\n",
       "      <td>[explanation, edits, make, username, hardcore,...</td>\n",
       "    </tr>\n",
       "    <tr>\n",
       "      <th>1</th>\n",
       "      <td>000103f0d9cfb60f</td>\n",
       "      <td>D'aww! He matches this background colour I'm s...</td>\n",
       "      <td>0</td>\n",
       "      <td>0</td>\n",
       "      <td>0</td>\n",
       "      <td>0</td>\n",
       "      <td>0</td>\n",
       "      <td>0</td>\n",
       "      <td>112</td>\n",
       "      <td>[daww, match, background, colour, seemingly, s...</td>\n",
       "    </tr>\n",
       "    <tr>\n",
       "      <th>2</th>\n",
       "      <td>000113f07ec002fd</td>\n",
       "      <td>Hey man, I'm really not trying to edit war. It...</td>\n",
       "      <td>0</td>\n",
       "      <td>0</td>\n",
       "      <td>0</td>\n",
       "      <td>0</td>\n",
       "      <td>0</td>\n",
       "      <td>0</td>\n",
       "      <td>233</td>\n",
       "      <td>[hey, man, really, try, edit, war, guy, consta...</td>\n",
       "    </tr>\n",
       "    <tr>\n",
       "      <th>4</th>\n",
       "      <td>0001d958c54c6e35</td>\n",
       "      <td>You, sir, are my hero. Any chance you remember...</td>\n",
       "      <td>0</td>\n",
       "      <td>0</td>\n",
       "      <td>0</td>\n",
       "      <td>0</td>\n",
       "      <td>0</td>\n",
       "      <td>0</td>\n",
       "      <td>67</td>\n",
       "      <td>[sir, hero, chance, remember, page]</td>\n",
       "    </tr>\n",
       "    <tr>\n",
       "      <th>5</th>\n",
       "      <td>00025465d4725e87</td>\n",
       "      <td>\"\\n\\nCongratulations from me as well, use the ...</td>\n",
       "      <td>0</td>\n",
       "      <td>0</td>\n",
       "      <td>0</td>\n",
       "      <td>0</td>\n",
       "      <td>0</td>\n",
       "      <td>0</td>\n",
       "      <td>65</td>\n",
       "      <td>[congratulation, well, use, tool, well, ·, talk]</td>\n",
       "    </tr>\n",
       "  </tbody>\n",
       "</table>\n",
       "</div>"
      ],
      "text/plain": [
       "                 id                                       comment_text  toxic  \\\n",
       "0  0000997932d777bf  Explanation\\nWhy the edits made under my usern...      0   \n",
       "1  000103f0d9cfb60f  D'aww! He matches this background colour I'm s...      0   \n",
       "2  000113f07ec002fd  Hey man, I'm really not trying to edit war. It...      0   \n",
       "4  0001d958c54c6e35  You, sir, are my hero. Any chance you remember...      0   \n",
       "5  00025465d4725e87  \"\\n\\nCongratulations from me as well, use the ...      0   \n",
       "\n",
       "   severe_toxic  obscene  threat  insult  identity_hate  length  \\\n",
       "0             0        0       0       0              0     264   \n",
       "1             0        0       0       0              0     112   \n",
       "2             0        0       0       0              0     233   \n",
       "4             0        0       0       0              0      67   \n",
       "5             0        0       0       0              0      65   \n",
       "\n",
       "                                  processed_comments  \n",
       "0  [explanation, edits, make, username, hardcore,...  \n",
       "1  [daww, match, background, colour, seemingly, s...  \n",
       "2  [hey, man, really, try, edit, war, guy, consta...  \n",
       "4                [sir, hero, chance, remember, page]  \n",
       "5   [congratulation, well, use, tool, well, ·, talk]  "
      ]
     },
     "execution_count": 189,
     "metadata": {},
     "output_type": "execute_result"
    }
   ],
   "source": [
    "a.head()"
   ]
  }
 ],
 "metadata": {
  "kernelspec": {
   "display_name": "env37",
   "language": "python",
   "name": "env37"
  },
  "language_info": {
   "codemirror_mode": {
    "name": "ipython",
    "version": 3
   },
   "file_extension": ".py",
   "mimetype": "text/x-python",
   "name": "python",
   "nbconvert_exporter": "python",
   "pygments_lexer": "ipython3",
   "version": "3.7.2"
  }
 },
 "nbformat": 4,
 "nbformat_minor": 2
}

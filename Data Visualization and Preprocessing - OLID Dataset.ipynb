{
 "cells": [
  {
   "cell_type": "markdown",
   "metadata": {},
   "source": [
    "### Import necessary libraries"
   ]
  },
  {
   "cell_type": "code",
   "execution_count": 33,
   "metadata": {},
   "outputs": [],
   "source": [
    "import pandas as pd\n",
    "import numpy as np\n",
    "import matplotlib.pyplot as plt"
   ]
  },
  {
   "cell_type": "code",
   "execution_count": 34,
   "metadata": {},
   "outputs": [],
   "source": [
    "#pip install tqdm"
   ]
  },
  {
   "cell_type": "code",
   "execution_count": 35,
   "metadata": {},
   "outputs": [],
   "source": [
    "import unicodedata\n",
    "import nltk\n",
    "import string\n",
    "from tqdm import tqdm\n",
    "from time import time"
   ]
  },
  {
   "cell_type": "markdown",
   "metadata": {},
   "source": [
    "### Load the dataset"
   ]
  },
  {
   "cell_type": "code",
   "execution_count": 36,
   "metadata": {},
   "outputs": [],
   "source": [
    "df_train = pd.read_csv('OLIDv1.0/olid-training-v1.0.tsv', sep = '\\t')\n",
    "df_train.columns = ['id', 'tweet', 'sentiment', 'targetted_or_not', 'target_type']"
   ]
  },
  {
   "cell_type": "code",
   "execution_count": 37,
   "metadata": {},
   "outputs": [
    {
     "data": {
      "text/html": [
       "<div>\n",
       "<style scoped>\n",
       "    .dataframe tbody tr th:only-of-type {\n",
       "        vertical-align: middle;\n",
       "    }\n",
       "\n",
       "    .dataframe tbody tr th {\n",
       "        vertical-align: top;\n",
       "    }\n",
       "\n",
       "    .dataframe thead th {\n",
       "        text-align: right;\n",
       "    }\n",
       "</style>\n",
       "<table border=\"1\" class=\"dataframe\">\n",
       "  <thead>\n",
       "    <tr style=\"text-align: right;\">\n",
       "      <th></th>\n",
       "      <th>id</th>\n",
       "      <th>tweet</th>\n",
       "      <th>sentiment</th>\n",
       "      <th>targetted_or_not</th>\n",
       "      <th>target_type</th>\n",
       "    </tr>\n",
       "  </thead>\n",
       "  <tbody>\n",
       "    <tr>\n",
       "      <th>0</th>\n",
       "      <td>86426</td>\n",
       "      <td>@USER She should ask a few native Americans wh...</td>\n",
       "      <td>OFF</td>\n",
       "      <td>UNT</td>\n",
       "      <td>NaN</td>\n",
       "    </tr>\n",
       "    <tr>\n",
       "      <th>1</th>\n",
       "      <td>90194</td>\n",
       "      <td>@USER @USER Go home you’re drunk!!! @USER #MAG...</td>\n",
       "      <td>OFF</td>\n",
       "      <td>TIN</td>\n",
       "      <td>IND</td>\n",
       "    </tr>\n",
       "    <tr>\n",
       "      <th>2</th>\n",
       "      <td>16820</td>\n",
       "      <td>Amazon is investigating Chinese employees who ...</td>\n",
       "      <td>NOT</td>\n",
       "      <td>NaN</td>\n",
       "      <td>NaN</td>\n",
       "    </tr>\n",
       "    <tr>\n",
       "      <th>3</th>\n",
       "      <td>62688</td>\n",
       "      <td>@USER Someone should'veTaken\" this piece of sh...</td>\n",
       "      <td>OFF</td>\n",
       "      <td>UNT</td>\n",
       "      <td>NaN</td>\n",
       "    </tr>\n",
       "    <tr>\n",
       "      <th>4</th>\n",
       "      <td>43605</td>\n",
       "      <td>@USER @USER Obama wanted liberals &amp;amp; illega...</td>\n",
       "      <td>NOT</td>\n",
       "      <td>NaN</td>\n",
       "      <td>NaN</td>\n",
       "    </tr>\n",
       "  </tbody>\n",
       "</table>\n",
       "</div>"
      ],
      "text/plain": [
       "      id                                              tweet sentiment  \\\n",
       "0  86426  @USER She should ask a few native Americans wh...       OFF   \n",
       "1  90194  @USER @USER Go home you’re drunk!!! @USER #MAG...       OFF   \n",
       "2  16820  Amazon is investigating Chinese employees who ...       NOT   \n",
       "3  62688  @USER Someone should'veTaken\" this piece of sh...       OFF   \n",
       "4  43605  @USER @USER Obama wanted liberals &amp; illega...       NOT   \n",
       "\n",
       "  targetted_or_not target_type  \n",
       "0              UNT         NaN  \n",
       "1              TIN         IND  \n",
       "2              NaN         NaN  \n",
       "3              UNT         NaN  \n",
       "4              NaN         NaN  "
      ]
     },
     "execution_count": 37,
     "metadata": {},
     "output_type": "execute_result"
    }
   ],
   "source": [
    "df_train.head()"
   ]
  },
  {
   "cell_type": "markdown",
   "metadata": {},
   "source": [
    "**sentiment column:**  \n",
    "1 indicates offensive tweet, 0 indicates not offensive.\n",
    "\n",
    "**targetted_or_not column:**   \n",
    "1 indicates targetted tweet, 0 indicates that the tweet is not targetted.  \n",
    "This column has a meaningful value only when the tweet is offensive.  \n",
    "                         \n",
    "**target_type:**   \n",
    "If the tweet is offensive and targetted,  \n",
    "1 indicates that the target is an individual  \n",
    "2 indicates that the target is a group  \n",
    "3 indicates some other target  \n",
    "When the tweet is not offensive or offensive but untargetted, there is no meaningful value."
   ]
  },
  {
   "cell_type": "markdown",
   "metadata": {},
   "source": [
    "#### Change the text labels to numeric labels"
   ]
  },
  {
   "cell_type": "code",
   "execution_count": 38,
   "metadata": {},
   "outputs": [],
   "source": [
    "dict_labels = {\"OFF\": 1, \"NOT\": 0,\n",
    "               \"TIN\": 1, \"UNT\": 0,\n",
    "               \"IND\": 1, \"GRP\": 2, \"OTH\": 3}"
   ]
  },
  {
   "cell_type": "code",
   "execution_count": 39,
   "metadata": {},
   "outputs": [],
   "source": [
    "def convert_labels(x):\n",
    "    if x in dict_labels.keys():\n",
    "        return dict_labels[x]\n",
    "    else:\n",
    "        return None"
   ]
  },
  {
   "cell_type": "markdown",
   "metadata": {},
   "source": [
    "#### Sentiment\n",
    "* OFF = Offensive  \n",
    "* NOT = Not offensive"
   ]
  },
  {
   "cell_type": "code",
   "execution_count": 40,
   "metadata": {},
   "outputs": [
    {
     "name": "stdout",
     "output_type": "stream",
     "text": [
      "NOT    8840\n",
      "OFF    4400\n",
      "Name: sentiment, dtype: int64\n"
     ]
    },
    {
     "data": {
      "image/png": "[encoded data removed]",
      "text/plain": [
       "<Figure size 432x288 with 1 Axes>"
      ]
     },
     "metadata": {},
     "output_type": "display_data"
    }
   ],
   "source": [
    "val_counts = df_train['sentiment'].value_counts()\n",
    "print(val_counts)\n",
    "\n",
    "labels = val_counts.keys()\n",
    "sizes = val_counts.values\n",
    "explode = (0, 0)\n",
    "fig1, ax1 = plt.subplots()\n",
    "ax1.pie(sizes, explode=explode, labels=labels, autopct='%1.1f%%',shadow=True, startangle=90)\n",
    "ax1.axis('equal')  # Equal aspect ratio ensures that pie is drawn as a circle.\n",
    "plt.show()\n",
    "\n",
    "df_train['sentiment'] = df_train['sentiment'].apply(lambda x: dict_labels[x])"
   ]
  },
  {
   "cell_type": "markdown",
   "metadata": {},
   "source": [
    "#### Targetted or Not Targetted\n",
    "\n",
    "* TIN = Targetted  \n",
    "* UNT = Not targetted"
   ]
  },
  {
   "cell_type": "code",
   "execution_count": 41,
   "metadata": {},
   "outputs": [
    {
     "name": "stdout",
     "output_type": "stream",
     "text": [
      "TIN    3876\n",
      "UNT     524\n",
      "Name: targetted_or_not, dtype: int64\n"
     ]
    },
    {
     "data": {
      "image/png": "[encoded data removed]",
      "text/plain": [
       "<Figure size 432x288 with 1 Axes>"
      ]
     },
     "metadata": {},
     "output_type": "display_data"
    }
   ],
   "source": [
    "val_counts = df_train['targetted_or_not'].value_counts()\n",
    "print(val_counts)\n",
    "\n",
    "labels = val_counts.keys()\n",
    "sizes = val_counts.values\n",
    "explode = (0, 0)\n",
    "fig1, ax1 = plt.subplots()\n",
    "ax1.pie(sizes, explode=explode, labels=labels, autopct='%1.1f%%',shadow=True, startangle=90)\n",
    "ax1.axis('equal')  # Equal aspect ratio ensures that pie is drawn as a circle.\n",
    "plt.show()\n",
    "\n",
    "df_train['targetted_or_not'] = df_train['targetted_or_not'].apply(convert_labels)"
   ]
  },
  {
   "cell_type": "markdown",
   "metadata": {},
   "source": [
    "#### Target type\n",
    "* IND = Individual\n",
    "* GRP = Group\n",
    "* OTH = Other"
   ]
  },
  {
   "cell_type": "code",
   "execution_count": 42,
   "metadata": {},
   "outputs": [
    {
     "name": "stdout",
     "output_type": "stream",
     "text": [
      "IND    2407\n",
      "GRP    1074\n",
      "OTH     395\n",
      "Name: target_type, dtype: int64\n"
     ]
    },
    {
     "data": {
      "image/png": "[encoded data removed]",
      "text/plain": [
       "<Figure size 432x288 with 1 Axes>"
      ]
     },
     "metadata": {},
     "output_type": "display_data"
    }
   ],
   "source": [
    "val_counts = df_train['target_type'].value_counts()\n",
    "print(val_counts)\n",
    "\n",
    "labels = val_counts.keys()\n",
    "sizes = val_counts.values\n",
    "explode = (0, 0, 0)\n",
    "fig1, ax1 = plt.subplots()\n",
    "ax1.pie(sizes, explode=explode, labels=labels, autopct='%1.1f%%',shadow=True, startangle=90)\n",
    "ax1.axis('equal')  # Equal aspect ratio ensures that pie is drawn as a circle.\n",
    "plt.show()\n",
    "\n",
    "df_train['target_type'] = df_train['target_type'].apply(convert_labels)"
   ]
  },
  {
   "cell_type": "markdown",
   "metadata": {},
   "source": [
    "## Preprocessing"
   ]
  },
  {
   "cell_type": "code",
   "execution_count": 43,
   "metadata": {},
   "outputs": [
    {
     "data": {
      "text/html": [
       "<div>\n",
       "<style scoped>\n",
       "    .dataframe tbody tr th:only-of-type {\n",
       "        vertical-align: middle;\n",
       "    }\n",
       "\n",
       "    .dataframe tbody tr th {\n",
       "        vertical-align: top;\n",
       "    }\n",
       "\n",
       "    .dataframe thead th {\n",
       "        text-align: right;\n",
       "    }\n",
       "</style>\n",
       "<table border=\"1\" class=\"dataframe\">\n",
       "  <thead>\n",
       "    <tr style=\"text-align: right;\">\n",
       "      <th></th>\n",
       "      <th>id</th>\n",
       "      <th>tweet</th>\n",
       "      <th>sentiment</th>\n",
       "      <th>targetted_or_not</th>\n",
       "      <th>target_type</th>\n",
       "    </tr>\n",
       "  </thead>\n",
       "  <tbody>\n",
       "    <tr>\n",
       "      <th>0</th>\n",
       "      <td>86426</td>\n",
       "      <td>@USER She should ask a few native Americans wh...</td>\n",
       "      <td>1</td>\n",
       "      <td>0.0</td>\n",
       "      <td>NaN</td>\n",
       "    </tr>\n",
       "    <tr>\n",
       "      <th>1</th>\n",
       "      <td>90194</td>\n",
       "      <td>@USER @USER Go home you’re drunk!!! @USER #MAG...</td>\n",
       "      <td>1</td>\n",
       "      <td>1.0</td>\n",
       "      <td>1.0</td>\n",
       "    </tr>\n",
       "    <tr>\n",
       "      <th>2</th>\n",
       "      <td>16820</td>\n",
       "      <td>Amazon is investigating Chinese employees who ...</td>\n",
       "      <td>0</td>\n",
       "      <td>NaN</td>\n",
       "      <td>NaN</td>\n",
       "    </tr>\n",
       "    <tr>\n",
       "      <th>3</th>\n",
       "      <td>62688</td>\n",
       "      <td>@USER Someone should'veTaken\" this piece of sh...</td>\n",
       "      <td>1</td>\n",
       "      <td>0.0</td>\n",
       "      <td>NaN</td>\n",
       "    </tr>\n",
       "    <tr>\n",
       "      <th>4</th>\n",
       "      <td>43605</td>\n",
       "      <td>@USER @USER Obama wanted liberals &amp;amp; illega...</td>\n",
       "      <td>0</td>\n",
       "      <td>NaN</td>\n",
       "      <td>NaN</td>\n",
       "    </tr>\n",
       "  </tbody>\n",
       "</table>\n",
       "</div>"
      ],
      "text/plain": [
       "      id                                              tweet  sentiment  \\\n",
       "0  86426  @USER She should ask a few native Americans wh...          1   \n",
       "1  90194  @USER @USER Go home you’re drunk!!! @USER #MAG...          1   \n",
       "2  16820  Amazon is investigating Chinese employees who ...          0   \n",
       "3  62688  @USER Someone should'veTaken\" this piece of sh...          1   \n",
       "4  43605  @USER @USER Obama wanted liberals &amp; illega...          0   \n",
       "\n",
       "   targetted_or_not  target_type  \n",
       "0               0.0          NaN  \n",
       "1               1.0          1.0  \n",
       "2               NaN          NaN  \n",
       "3               0.0          NaN  \n",
       "4               NaN          NaN  "
      ]
     },
     "execution_count": 43,
     "metadata": {},
     "output_type": "execute_result"
    }
   ],
   "source": [
    "df_train.head()"
   ]
  },
  {
   "cell_type": "markdown",
   "metadata": {},
   "source": [
    "#### Converting to Lowercase and Removing Punctuation"
   ]
  },
  {
   "cell_type": "code",
   "execution_count": 44,
   "metadata": {},
   "outputs": [],
   "source": [
    "from nltk.tokenize import word_tokenize, TweetTokenizer\n",
    "\n",
    "def my_word_tokenize(doc):\n",
    "    new_doc = \"\"\n",
    "    characters_to_remove = string.punctuation.replace(\"'\", \"\") + \"\\n\"\n",
    "    new_doc = ''.join([ch if ch not in characters_to_remove else \" \" for ch in doc])\n",
    "    return new_doc.split()\n",
    "\n",
    "def basic_preprocess(doc):\n",
    "    '''\n",
    "    Input: doc (A comment, which is string)\n",
    "    Output: List of words in the preprocessed document\n",
    "    Basic preprocessing includes:\n",
    "    a) converting to lowercase\n",
    "    b) removing newline characters\n",
    "    c) removing all punctuation\n",
    "    d) normalizing to NFKC form\n",
    "    '''\n",
    "    \n",
    "    # Normalization and conversiom to lowercase\n",
    "    doc = unicodedata.normalize('NFKC', doc).lower()\n",
    "\n",
    "    # A list of all the words in the document after removing punctuation.\n",
    "    tokens = my_word_tokenize(doc)\n",
    "    return tokens\n",
    "\n",
    "def basic_preprocess_1(doc):\n",
    "    '''\n",
    "    Input: doc (A comment, which is string)\n",
    "    Output: List of words in the preprocessed document\n",
    "    Basic preprocessing includes:\n",
    "    a) converting to lowercase\n",
    "    b) removing newline characters\n",
    "    c) removing all punctuation\n",
    "    d) normalizing to NFKC form\n",
    "    '''\n",
    "    \n",
    "    # Normalization and conversiom to lowercase\n",
    "    doc = unicodedata.normalize('NFKC', doc).lower()\n",
    "    doc = doc.replace('_', ' ')\n",
    "    \n",
    "    # A list of all the words in the document after removing punctuation.\n",
    "    #tokens = word_tokenize(doc)\n",
    "    tokens = TweetTokenizer().tokenize(doc)\n",
    "    # Maps all punctuation marks to 'None'\n",
    "    table = str.maketrans('', '', string.punctuation.replace('@', '').replace(\"'\", \"\"))\n",
    "    # Removes the punctuation marks from each word, if present.\n",
    "    stripped = [w.translate(table) for w in tokens]\n",
    "    stripped = [w for w in stripped if w!='']\n",
    "    return stripped"
   ]
  },
  {
   "cell_type": "markdown",
   "metadata": {},
   "source": [
    "#### Lemmatization"
   ]
  },
  {
   "cell_type": "code",
   "execution_count": 45,
   "metadata": {},
   "outputs": [],
   "source": [
    "from nltk.stem import WordNetLemmatizer\n",
    "from nltk.corpus import  wordnet\n",
    "\n",
    "def get_wordnet_pos(treebank_tag):\n",
    "    '''\n",
    "    This function is used to convert the Part of Speech tags returned by nltk.pos_tag\n",
    "    function to the wordnet POS tags.\n",
    "    '''\n",
    "    if treebank_tag.startswith('J'):\n",
    "        return wordnet.ADJ\n",
    "    elif treebank_tag.startswith('V'):\n",
    "        return wordnet.VERB\n",
    "    elif treebank_tag.startswith('N'):\n",
    "        return wordnet.NOUN\n",
    "    elif treebank_tag.startswith('R'):\n",
    "        return wordnet.ADV\n",
    "    else:\n",
    "        return wordnet.NOUN\n",
    "        # Instead of returning None, I am returning the noun tag, because, by default\n",
    "        # the WordNetLemmatizer assumes that the POS tag is noun.\n",
    "        \n",
    "def lemmatize(doc_words):\n",
    "    '''\n",
    "    Input: doc(A comment)\n",
    "    Output: A list of words in the document,after lemmatization\n",
    "    '''\n",
    "    # Creating Part-of-Speech tags for the words\n",
    "    pos_tags = nltk.pos_tag(doc_words)\n",
    "    # Lemmatization\n",
    "    lemmatizer = WordNetLemmatizer()\n",
    "    lem_words = [lemmatizer.lemmatize(word, pos = get_wordnet_pos(tag)) for word, tag in pos_tags]\n",
    "    return lem_words"
   ]
  },
  {
   "cell_type": "markdown",
   "metadata": {},
   "source": [
    "#### Removing Stopwords"
   ]
  },
  {
   "cell_type": "code",
   "execution_count": 46,
   "metadata": {},
   "outputs": [],
   "source": [
    "# Removal of stopwords\n",
    "from nltk.corpus import stopwords\n",
    "def remove_stopwords(doc_words):\n",
    "    '''\n",
    "    Input: doc(a comment)\n",
    "    Output: List of words in that document, after removing stop words.\n",
    "    '''\n",
    "    words_to_remove = set(stopwords.words('english'))\n",
    "    words = [word for word in doc_words if word not in words_to_remove]\n",
    "    return words"
   ]
  },
  {
   "cell_type": "markdown",
   "metadata": {},
   "source": [
    "#### Preprocessing"
   ]
  },
  {
   "cell_type": "code",
   "execution_count": 96,
   "metadata": {},
   "outputs": [],
   "source": [
    "def preprocess(doc):\n",
    "    '''\n",
    "    Input: doc (A comment)\n",
    "    Output: List of words (after preprocessing)\n",
    "    '''\n",
    "    preprocessed_doc = basic_preprocess(doc)\n",
    "    lemmatized_doc = lemmatize(preprocessed_doc)\n",
    "    final_preprocessed_doc = remove_stopwords(lemmatized_doc)\n",
    "    return final_preprocessed_doc\n",
    "\n",
    "def preprocess_1(doc):\n",
    "    '''\n",
    "    Input: doc (A comment)\n",
    "    Output: List of words (after preprocessing)\n",
    "    '''\n",
    "    preprocessed_doc = basic_preprocess_1(doc.replace(\"’\", \"'\"))\n",
    "    \n",
    "    lemmatized_doc = lemmatize(preprocessed_doc)\n",
    "    final_preprocessed_doc = remove_stopwords(lemmatized_doc)\n",
    "    processed=[word for word in final_preprocessed_doc if word.isalnum()]\n",
    "    if len(processed) == 0:\n",
    "        return ' '                                                           \n",
    "    return ' '.join(processed)"
   ]
  },
  {
   "cell_type": "code",
   "execution_count": 91,
   "metadata": {},
   "outputs": [
    {
     "name": "stdout",
     "output_type": "stream",
     "text": [
      "Time taken (in seconds) for preprocessing:\n",
      "35.645962715148926\n"
     ]
    }
   ],
   "source": [
    "start = time()\n",
    "a = df_train.copy()\n",
    "a['processed_tweets']= a.apply(lambda row : preprocess_1(row['tweet']), axis = 1)\n",
    "a = a[['id', 'processed_tweets', 'sentiment', 'targetted_or_not', 'target_type']]\n",
    "end = time()\n",
    "print(\"Time taken (in seconds) for preprocessing:\")\n",
    "print(end - start)"
   ]
  },
  {
   "cell_type": "code",
   "execution_count": 92,
   "metadata": {},
   "outputs": [],
   "source": [
    "a.reset_index(drop=True, inplace=True)\n",
    "a.to_csv('processed_trainingset.csv')\n"
   ]
  },
  {
   "cell_type": "code",
   "execution_count": 93,
   "metadata": {},
   "outputs": [],
   "source": [
    "df = pd.read_csv('processed_trainingset.csv')"
   ]
  },
  {
   "cell_type": "code",
   "execution_count": 94,
   "metadata": {},
   "outputs": [
    {
     "data": {
      "text/html": [
       "<div>\n",
       "<style scoped>\n",
       "    .dataframe tbody tr th:only-of-type {\n",
       "        vertical-align: middle;\n",
       "    }\n",
       "\n",
       "    .dataframe tbody tr th {\n",
       "        vertical-align: top;\n",
       "    }\n",
       "\n",
       "    .dataframe thead th {\n",
       "        text-align: right;\n",
       "    }\n",
       "</style>\n",
       "<table border=\"1\" class=\"dataframe\">\n",
       "  <thead>\n",
       "    <tr style=\"text-align: right;\">\n",
       "      <th></th>\n",
       "      <th>Unnamed: 0</th>\n",
       "      <th>id</th>\n",
       "      <th>processed_tweets</th>\n",
       "      <th>sentiment</th>\n",
       "      <th>targetted_or_not</th>\n",
       "      <th>target_type</th>\n",
       "    </tr>\n",
       "  </thead>\n",
       "  <tbody>\n",
       "    <tr>\n",
       "      <th>0</th>\n",
       "      <td>0</td>\n",
       "      <td>86426</td>\n",
       "      <td>ask native american take</td>\n",
       "      <td>1</td>\n",
       "      <td>0.0</td>\n",
       "      <td>NaN</td>\n",
       "    </tr>\n",
       "    <tr>\n",
       "      <th>1</th>\n",
       "      <td>1</td>\n",
       "      <td>90194</td>\n",
       "      <td>go home drunk maga trump2020 url</td>\n",
       "      <td>1</td>\n",
       "      <td>1.0</td>\n",
       "      <td>1.0</td>\n",
       "    </tr>\n",
       "    <tr>\n",
       "      <th>2</th>\n",
       "      <td>2</td>\n",
       "      <td>16820</td>\n",
       "      <td>amazon investigate chinese employee sell inter...</td>\n",
       "      <td>0</td>\n",
       "      <td>NaN</td>\n",
       "      <td>NaN</td>\n",
       "    </tr>\n",
       "    <tr>\n",
       "      <th>3</th>\n",
       "      <td>3</td>\n",
       "      <td>62688</td>\n",
       "      <td>someone piece shit volcano</td>\n",
       "      <td>1</td>\n",
       "      <td>0.0</td>\n",
       "      <td>NaN</td>\n",
       "    </tr>\n",
       "    <tr>\n",
       "      <th>4</th>\n",
       "      <td>4</td>\n",
       "      <td>43605</td>\n",
       "      <td>obama want liberal illegals move red state</td>\n",
       "      <td>0</td>\n",
       "      <td>NaN</td>\n",
       "      <td>NaN</td>\n",
       "    </tr>\n",
       "  </tbody>\n",
       "</table>\n",
       "</div>"
      ],
      "text/plain": [
       "   Unnamed: 0     id                                   processed_tweets  \\\n",
       "0           0  86426                           ask native american take   \n",
       "1           1  90194                   go home drunk maga trump2020 url   \n",
       "2           2  16820  amazon investigate chinese employee sell inter...   \n",
       "3           3  62688                         someone piece shit volcano   \n",
       "4           4  43605         obama want liberal illegals move red state   \n",
       "\n",
       "   sentiment  targetted_or_not  target_type  \n",
       "0          1               0.0          NaN  \n",
       "1          1               1.0          1.0  \n",
       "2          0               NaN          NaN  \n",
       "3          1               0.0          NaN  \n",
       "4          0               NaN          NaN  "
      ]
     },
     "execution_count": 94,
     "metadata": {},
     "output_type": "execute_result"
    }
   ],
   "source": [
    "df.head()"
   ]
  },
  {
   "cell_type": "markdown",
   "metadata": {},
   "source": [
    "The tweet gets converted into a list of words after preprocessing, when we store the new dataframe as a csv file, the list is stored as string. In order to use it properly as a list, the following method will be helpful:\n",
    "\n",
    "```\n",
    "from ast import literal_eval\n",
    "string_list = \"[12, 45]\"\n",
    "new_list = literal_eval(string_list)\n",
    "```\n",
    "**new_list** can now be used as a normal list."
   ]
  },
  {
   "cell_type": "code",
   "execution_count": null,
   "metadata": {},
   "outputs": [],
   "source": []
  },
  {
   "cell_type": "code",
   "execution_count": null,
   "metadata": {},
   "outputs": [],
   "source": []
  },
  {
   "cell_type": "code",
   "execution_count": null,
   "metadata": {},
   "outputs": [],
   "source": []
  }
 ],
 "metadata": {
  "kernelspec": {
   "display_name": "Python 3",
   "language": "python",
   "name": "python3"
  },
  "language_info": {
   "codemirror_mode": {
    "name": "ipython",
    "version": 3
   },
   "file_extension": ".py",
   "mimetype": "text/x-python",
   "name": "python",
   "nbconvert_exporter": "python",
   "pygments_lexer": "ipython3",
   "version": "3.7.1"
  }
 },
 "nbformat": 4,
 "nbformat_minor": 4
}
